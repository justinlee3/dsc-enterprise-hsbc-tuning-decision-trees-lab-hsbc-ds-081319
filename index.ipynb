{
 "cells": [
  {
   "cell_type": "markdown",
   "metadata": {},
   "source": [
    "# Hyperparameter Tuning and Pruning in Decision Trees - Lab\n",
    "\n",
    "## Introduction\n",
    "\n",
    "In this lab we will use the titanic dataset to see the impact of tree pruning and hyper parameter tuning on the predictive performance of decision tree classifier. Pruning reduces the size of decision trees by removing nodes of the tree that do not provide power to classify instances. Decision trees are the most susceptible out of all the machine learning algorithms to overfitting and effective pruning can reduce this likelihood. In this lab, we shall work with the Titanic dataset and see how we can tweak different hyper parameters for optimal pruning of the trees. \n",
    "\n",
    "## Objectives\n",
    "You will be able to:\n",
    "- Demonstrate how pruning is performed for decision trees \n",
    "- Understand and explain the role of different Decision tree hyperparameters\n",
    "- Select the best values for chosen hyperparameters and monitor the improvement in performance"
   ]
  },
  {
   "cell_type": "markdown",
   "metadata": {},
   "source": [
    "## Import necessary libraries\n",
    "\n",
    "Let's first import the libraries you would need for this lab. "
   ]
  },
  {
   "cell_type": "code",
   "execution_count": 2,
   "metadata": {},
   "outputs": [],
   "source": [
    "import numpy as np\n",
    "import pandas as pd\n",
    "import matplotlib as mpl\n",
    "import matplotlib.pyplot as plt\n",
    "from sklearn.model_selection import train_test_split\n",
    "from sklearn.tree import DecisionTreeClassifier\n",
    "from sklearn.metrics import roc_curve, auc\n",
    "plt.style.use('seaborn')"
   ]
  },
  {
   "cell_type": "markdown",
   "metadata": {},
   "source": [
    "## Read the Titanic Dataset\n",
    "\n",
    "In the repo, we have made titanic dataset , all cleaned up and pre-processed for you, so that you can focus on pruning and optimization. The features set is available as `featues.csv` and target variable as `target.csv`. \n",
    "- Load these files into separate dataframes below.\n",
    "- Check the shape for consistency and the view the head "
   ]
  },
  {
   "cell_type": "code",
   "execution_count": 3,
   "metadata": {},
   "outputs": [
    {
     "name": "stdout",
     "output_type": "stream",
     "text": [
      "(891, 13) (891, 1)\n",
      "   PassengerId   Age  SibSp  Parch     Fare  Pclass_1  Pclass_2  Pclass_3  \\\n",
      "0            1  22.0      1      0   7.2500         0         0         1   \n",
      "1            2  38.0      1      0  71.2833         1         0         0   \n",
      "2            3  26.0      0      0   7.9250         0         0         1   \n",
      "3            4  35.0      1      0  53.1000         1         0         0   \n",
      "4            5  35.0      0      0   8.0500         0         0         1   \n",
      "\n",
      "   Sex_female  Sex_male  Embarked_C  Embarked_Q  Embarked_S  \n",
      "0           0         1           0           0           1  \n",
      "1           1         0           1           0           0  \n",
      "2           1         0           0           0           1  \n",
      "3           1         0           0           0           1  \n",
      "4           0         1           0           0           1  \n",
      "   Survived\n",
      "0         0\n",
      "1         1\n",
      "2         1\n",
      "3         1\n",
      "4         0\n"
     ]
    }
   ],
   "source": [
    "# Load features and target variables\n",
    "X=pd.read_csv(\"features.csv\")\n",
    "y = pd.read_csv(\"target.csv\")\n",
    "# Your code here\n",
    "print(X.shape, y.shape)\n",
    "print(X.head())\n",
    "print(y.head())"
   ]
  },
  {
   "cell_type": "markdown",
   "metadata": {},
   "source": [
    "This is great. Now that we have our x (feat) and y(target), we can go ahead and make a split necessary for supervised learning."
   ]
  },
  {
   "cell_type": "markdown",
   "metadata": {},
   "source": [
    "## Create a 70/30 Train/Test split\n",
    "- Using features and target variables above , create a 70/30 split using "
   ]
  },
  {
   "cell_type": "code",
   "execution_count": 4,
   "metadata": {},
   "outputs": [],
   "source": [
    "# Create a 70/30 split for given X and y \n",
    "from sklearn.model_selection import train_test_split  \n",
    "X_train, X_test, y_train, y_test = train_test_split(X, y, test_size=0.3)  \n",
    "\n",
    "# Your code here "
   ]
  },
  {
   "cell_type": "markdown",
   "metadata": {},
   "source": [
    "So now we have our data ready for training, lets first train a DT classifier with this data\n",
    "## Train a Vanilla Classifier\n",
    "\n",
    "__Note:__ The term \"vanilla\" is used for a machine learning algorithm with its default settings (no tweaking/tuning).\n",
    "\n",
    "- Create a decision tree instance\n",
    "- Fit a DT classifier with training dataset using all default settings for hyperparameters i.e. we don't change any parameter.\n",
    "- Set the impurity criteria to \"entropy\"."
   ]
  },
  {
   "cell_type": "code",
   "execution_count": 5,
   "metadata": {},
   "outputs": [
    {
     "data": {
      "text/plain": [
       "DecisionTreeClassifier(class_weight=None, criterion='entropy', max_depth=None,\n",
       "            max_features=None, max_leaf_nodes=None,\n",
       "            min_impurity_decrease=0.0, min_impurity_split=None,\n",
       "            min_samples_leaf=1, min_samples_split=2,\n",
       "            min_weight_fraction_leaf=0.0, presort=False, random_state=None,\n",
       "            splitter='best')"
      ]
     },
     "execution_count": 5,
     "metadata": {},
     "output_type": "execute_result"
    }
   ],
   "source": [
    "# Train the classifier using training data \n",
    "classifier = DecisionTreeClassifier(criterion = \"entropy\")  \n",
    "classifier.fit(X_train, y_train)  \n",
    "\n",
    "# Your code here "
   ]
  },
  {
   "cell_type": "markdown",
   "metadata": {},
   "source": [
    "## Make predictions \n",
    "- Create a set of predictions using the test set \n",
    "- Using `y_test` and `y_pred`, calculate the AUC (Area under curve) to check the predictive performance"
   ]
  },
  {
   "cell_type": "code",
   "execution_count": 6,
   "metadata": {},
   "outputs": [
    {
     "name": "stdout",
     "output_type": "stream",
     "text": [
      "Accuracy is :76.49253731343283\n",
      "\n",
      "AUC is :0.76\n"
     ]
    }
   ],
   "source": [
    "from sklearn.metrics import accuracy_score, roc_curve, auc\n",
    "# Make predictions using test set \n",
    "y_pred = classifier.predict(X_test)\n",
    "\n",
    "# Your code here \n",
    "acc = accuracy_score(y_test,y_pred) * 100\n",
    "print(\"Accuracy is :{0}\".format(acc))\n",
    "\n",
    "# Check the AUC of predictions\n",
    "false_positive_rate, true_positive_rate, thresholds = roc_curve(y_test, y_pred)\n",
    "roc_auc = auc(false_positive_rate, true_positive_rate)\n",
    "print(\"\\nAUC is :{0}\".format(round(roc_auc,2)))\n",
    "\n"
   ]
  },
  {
   "cell_type": "markdown",
   "metadata": {},
   "source": [
    "## Maximum Tree Depth\n",
    "\n",
    "Let's first check for the best depth parameter for our decision tree. \n",
    "- Create an array for for depth values ranging from 1 - 32. \n",
    "- In a loop, train the classifier for each depth value (32 runs) \n",
    "- Calculate the training and test AUC for each run \n",
    "- Plot a graph to show under/over fitting and optimal value \n",
    "- Interpret the results"
   ]
  },
  {
   "cell_type": "code",
   "execution_count": 8,
   "metadata": {},
   "outputs": [
    {
     "name": "stdout",
     "output_type": "stream",
     "text": [
      "[ 1.  2.  3.  4.  5.  6.  7.  8.  9. 10. 11. 12. 13. 14. 15. 16. 17. 18.\n",
      " 19. 20. 21. 22. 23. 24. 25. 26. 27. 28. 29. 30. 31. 32.]\n"
     ]
    },
    {
     "data": {
      "text/plain": [
       "<matplotlib.legend.Legend at 0x7f3dc5785390>"
      ]
     },
     "execution_count": 8,
     "metadata": {},
     "output_type": "execute_result"
    },
    {
     "data": {
      "image/png": "[encoded data removed]",
      "text/plain": [
       "<Figure size 432x288 with 1 Axes>"
      ]
     },
     "metadata": {
      "needs_background": "light"
     },
     "output_type": "display_data"
    }
   ],
   "source": [
    "# Identify the optimal tree depth for given data\n",
    "depths = np.linspace(1,32,32)\n",
    "print(depths)\n",
    "train_auc = []\n",
    "test_auc = []\n",
    "\n",
    "for i in depths:\n",
    "    classifier = DecisionTreeClassifier(criterion = \"entropy\", max_depth = i)  \n",
    "    classifier.fit(X_train, y_train)  \n",
    "    \n",
    "    # Make predictions using test set \n",
    "    y_pred = classifier.predict(X_train)\n",
    "\n",
    "    # Your code here \n",
    "    acc = accuracy_score(y_train,y_pred) * 100\n",
    "    #print(\"Accuracy is :{0}\".format(acc))\n",
    "\n",
    "    # Check the AUC of predictions\n",
    "    false_positive_rate, true_positive_rate, thresholds = roc_curve(y_train, y_pred)\n",
    "    roc_auc = auc(false_positive_rate, true_positive_rate)\n",
    "    #print(\"\\nAUC is :{0}\".format(round(roc_auc,2)))\n",
    "\n",
    "    # Your code here\n",
    "    train_auc.append(roc_auc)\n",
    "    \n",
    "    # Test\n",
    "    y_pred = classifier.predict(X_test)\n",
    "    false_positive_rate, true_positive_rate, thresholds = roc_curve(y_test, y_pred)\n",
    "    roc_auc = auc(false_positive_rate, true_positive_rate)\n",
    "    \n",
    "    test_auc.append(roc_auc)\n",
    "    \n",
    "    \n",
    "plt.plot(depths,train_auc, label = \"train\")\n",
    "plt.plot(depths,test_auc, label = \"test\")\n",
    "plt.ylabel(\"AUC score\")\n",
    "plt.xlabel(\"Depths\")\n",
    "plt.legend()"
   ]
  },
  {
   "cell_type": "code",
   "execution_count": 186,
   "metadata": {},
   "outputs": [],
   "source": [
    "# You observations here \n"
   ]
  },
  {
   "cell_type": "markdown",
   "metadata": {},
   "source": [
    "## Minimum Sample Split\n",
    "\n",
    "Now check for the best `min_samples_splits` parameter for our decision tree. \n",
    "- Create an array for for `min_sample_splits` values ranging from 0.1 - 1 with an increment of 0.1 \n",
    "- In a loop, train the classifier for each `min_samples_splits` value (10 runs) \n",
    "- Calculate the training and test AUC for each run \n",
    "- Plot a graph to show under/over fitting and optimal value \n",
    "- Interpret the results"
   ]
  },
  {
   "cell_type": "code",
   "execution_count": 20,
   "metadata": {},
   "outputs": [
    {
     "data": {
      "text/plain": [
       "<matplotlib.legend.Legend at 0x7f7e4a607898>"
      ]
     },
     "execution_count": 20,
     "metadata": {},
     "output_type": "execute_result"
    },
    {
     "data": {
      "image/png": "[encoded data removed]",
      "text/plain": [
       "<Figure size 432x288 with 1 Axes>"
      ]
     },
     "metadata": {
      "needs_background": "light"
     },
     "output_type": "display_data"
    }
   ],
   "source": [
    "# Identify the optimal tree depth for given data\n",
    "min_sample = np.linspace(0.1, 1.0, 10)\n",
    "train_auc = []\n",
    "test_auc = []\n",
    "\n",
    "\n",
    "for i in min_sample:\n",
    "    classifier = DecisionTreeClassifier(criterion = \"entropy\", min_samples_split = i)  \n",
    "    classifier.fit(X_train, y_train)  \n",
    "    \n",
    "    # Make predictions using test set \n",
    "    y_pred = classifier.predict(X_train)\n",
    "\n",
    "    # Your code here \n",
    "    acc = accuracy_score(y_train,y_pred) * 100\n",
    "    #print(\"Accuracy is :{0}\".format(acc))\n",
    "\n",
    "    # Check the AUC of predictions\n",
    "    false_positive_rate, true_positive_rate, thresholds = roc_curve(y_train, y_pred)\n",
    "    roc_auc = auc(false_positive_rate, true_positive_rate)\n",
    "    #print(\"\\nAUC is :{0}\".format(round(roc_auc,2)))\n",
    "\n",
    "    # Your code here\n",
    "    train_auc.append(roc_auc)\n",
    "    \n",
    "    # Test\n",
    "    y_pred = classifier.predict(X_test)\n",
    "    false_positive_rate, true_positive_rate, thresholds = roc_curve(y_test, y_pred)\n",
    "    roc_auc = auc(false_positive_rate, true_positive_rate)\n",
    "    \n",
    "    test_auc.append(roc_auc)\n",
    "\n",
    "plt.plot(min_sample,train_auc, label = \"train\")\n",
    "plt.plot(min_sample,test_auc, label = \"test\")\n",
    "plt.ylabel(\"AUC score\")\n",
    "plt.xlabel(\"Min_sample_split\")\n",
    "plt.legend()"
   ]
  },
  {
   "cell_type": "code",
   "execution_count": 171,
   "metadata": {},
   "outputs": [],
   "source": [
    "# Your observations\n",
    "\n"
   ]
  },
  {
   "cell_type": "markdown",
   "metadata": {},
   "source": [
    "## Minimum Sample Leafs\n",
    "\n",
    "Now check for the best `min_samples_leafs` parameter value for our decision tree. \n",
    "- Create an array for for `min_samples_leafs` values ranging from 0.1 - 0.5 with an increment of 0.1 \n",
    "- In a loop, train the classifier for each `min_samples_leafs` value (5 runs) \n",
    "- Calculate the training and test AUC for each run \n",
    "- Plot a graph to show under/over fitting and optimal value \n",
    "- Interpret the results"
   ]
  },
  {
   "cell_type": "code",
   "execution_count": 9,
   "metadata": {},
   "outputs": [
    {
     "name": "stdout",
     "output_type": "stream",
     "text": [
      "[0.1 0.2 0.3 0.4 0.5]\n"
     ]
    },
    {
     "data": {
      "text/plain": [
       "<matplotlib.legend.Legend at 0x7f3dc56f7278>"
      ]
     },
     "execution_count": 9,
     "metadata": {},
     "output_type": "execute_result"
    },
    {
     "data": {
      "image/png": "[encoded data removed]",
      "text/plain": [
       "<Figure size 432x288 with 1 Axes>"
      ]
     },
     "metadata": {
      "needs_background": "light"
     },
     "output_type": "display_data"
    }
   ],
   "source": [
    "# Identify the optimal tree depth for given data\n",
    "min_sample = np.linspace(0.1, 0.5, 5)\n",
    "train_auc = []\n",
    "test_auc = []\n",
    "print(min_sample)\n",
    "\n",
    "for i in min_sample:\n",
    "    classifier = DecisionTreeClassifier(criterion = \"entropy\", min_samples_leaf = i)  \n",
    "    classifier.fit(X_train, y_train)  \n",
    "    \n",
    "    # Make predictions using test set \n",
    "    y_pred = classifier.predict(X_train)\n",
    "\n",
    "    # Your code here \n",
    "    acc = accuracy_score(y_train,y_pred) * 100\n",
    "    #print(\"Accuracy is :{0}\".format(acc))\n",
    "\n",
    "    # Check the AUC of predictions\n",
    "    false_positive_rate, true_positive_rate, thresholds = roc_curve(y_train, y_pred)\n",
    "    roc_auc = auc(false_positive_rate, true_positive_rate)\n",
    "    #print(\"\\nAUC is :{0}\".format(round(roc_auc,2)))\n",
    "\n",
    "    # Your code here\n",
    "    train_auc.append(roc_auc)\n",
    "    \n",
    "    # Test\n",
    "    y_pred = classifier.predict(X_test)\n",
    "    false_positive_rate, true_positive_rate, thresholds = roc_curve(y_test, y_pred)\n",
    "    roc_auc = auc(false_positive_rate, true_positive_rate)\n",
    "    \n",
    "    test_auc.append(roc_auc)\n",
    "\n",
    "plt.plot(min_sample,train_auc, label = \"train\")\n",
    "plt.plot(min_sample,test_auc, label = \"test\")\n",
    "plt.ylabel(\"AUC score\")\n",
    "plt.xlabel(\"Min_sample_split\")\n",
    "plt.legend()# Calculate the optimal value for minimum sample leafs\n",
    "\n",
    "# Your code here "
   ]
  },
  {
   "cell_type": "code",
   "execution_count": 190,
   "metadata": {},
   "outputs": [],
   "source": [
    "# Your observations here \n"
   ]
  },
  {
   "cell_type": "markdown",
   "metadata": {},
   "source": [
    "## Maximum Features\n",
    "\n",
    "Now check for the best `max_features` parameter value for our decision tree. \n",
    "- Create an array for for `max_features` values ranging from 1 - 12 (1 features vs all)\n",
    "- In a loop, train the classifier for each `max_features` value (12 runs) \n",
    "- Calculate the training and test AUC for each run \n",
    "- Plot a graph to show under/over fitting and optimal value \n",
    "- Interpret the results"
   ]
  },
  {
   "cell_type": "code",
   "execution_count": 26,
   "metadata": {},
   "outputs": [
    {
     "ename": "NameError",
     "evalue": "name 'x_train' is not defined",
     "output_type": "error",
     "traceback": [
      "\u001b[0;31m\u001b[0m",
      "\u001b[0;31mNameError\u001b[0mTraceback (most recent call last)",
      "\u001b[0;32m<ipython-input-26-dd4a789ea278>\u001b[0m in \u001b[0;36m<module>\u001b[0;34m()\u001b[0m\n\u001b[1;32m      1\u001b[0m \u001b[0;31m# Identify the optimal tree depth for given data\u001b[0m\u001b[0;34m\u001b[0m\u001b[0;34m\u001b[0m\u001b[0m\n\u001b[0;32m----> 2\u001b[0;31m \u001b[0mmax_feature\u001b[0m \u001b[0;34m=\u001b[0m \u001b[0mnp\u001b[0m\u001b[0;34m.\u001b[0m\u001b[0mlinspace\u001b[0m\u001b[0;34m(\u001b[0m\u001b[0;36m1\u001b[0m\u001b[0;34m,\u001b[0m\u001b[0;36m12\u001b[0m\u001b[0;34m,\u001b[0m\u001b[0mx_train\u001b[0m\u001b[0;34m.\u001b[0m\u001b[0mshape\u001b[0m\u001b[0;34m[\u001b[0m\u001b[0;36m1\u001b[0m\u001b[0;34m]\u001b[0m\u001b[0;34m)\u001b[0m\u001b[0;34m\u001b[0m\u001b[0m\n\u001b[0m\u001b[1;32m      3\u001b[0m \u001b[0mtrain_auc\u001b[0m \u001b[0;34m=\u001b[0m \u001b[0;34m[\u001b[0m\u001b[0;34m]\u001b[0m\u001b[0;34m\u001b[0m\u001b[0m\n\u001b[1;32m      4\u001b[0m \u001b[0mtest_auc\u001b[0m \u001b[0;34m=\u001b[0m \u001b[0;34m[\u001b[0m\u001b[0;34m]\u001b[0m\u001b[0;34m\u001b[0m\u001b[0m\n\u001b[1;32m      5\u001b[0m \u001b[0;34m\u001b[0m\u001b[0m\n",
      "\u001b[0;31mNameError\u001b[0m: name 'x_train' is not defined"
     ]
    }
   ],
   "source": [
    "# Identify the optimal tree depth for given data\n",
    "max_feature = np.linspace(1,12,x_train.shape[1])\n",
    "train_auc = []\n",
    "test_auc = []\n",
    "\n",
    "\n",
    "for i in max_feature:\n",
    "    classifier = DecisionTreeClassifier(criterion = \"entropy\", max_features = i)  \n",
    "    classifier.fit(X_train, y_train)  \n",
    "    \n",
    "    # Make predictions using test set \n",
    "    y_pred = classifier.predict(X_train)\n",
    "\n",
    "    # Your code here \n",
    "    acc = accuracy_score(y_train,y_pred) * 100\n",
    "    #print(\"Accuracy is :{0}\".format(acc))\n",
    "\n",
    "    # Check the AUC of predictions\n",
    "    false_positive_rate, true_positive_rate, thresholds = roc_curve(y_train, y_pred)\n",
    "    roc_auc = auc(false_positive_rate, true_positive_rate)\n",
    "    #print(\"\\nAUC is :{0}\".format(round(roc_auc,2)))\n",
    "\n",
    "    # Your code here\n",
    "    train_auc.append(roc_auc)\n",
    "    \n",
    "    # Test\n",
    "    y_pred = classifier.predict(X_test)\n",
    "    false_positive_rate, true_positive_rate, thresholds = roc_curve(y_test, y_pred)\n",
    "    roc_auc = auc(false_positive_rate, true_positive_rate)\n",
    "    \n",
    "    test_auc.append(roc_auc)\n",
    "\n",
    "plt.plot(max_feature,train_auc, label = \"train\")\n",
    "plt.plot(max_feature,test_auc, label = \"test\")\n",
    "plt.ylabel(\"AUC score\")\n",
    "plt.xlabel(\"Max_feature\")\n",
    "plt.legend()"
   ]
  },
  {
   "cell_type": "code",
   "execution_count": 178,
   "metadata": {},
   "outputs": [],
   "source": [
    "# Your observations here \n",
    "\n"
   ]
  },
  {
   "cell_type": "markdown",
   "metadata": {},
   "source": [
    "## Re-train the classifier with chosen values\n",
    "\n",
    "So now we shall use the best values from each training phase above and feed it back to our classifier and see if have any improvement in predictive performance. \n",
    "\n",
    "- Train the classifier with optimal values identified \n",
    "- compare the AUC with vanilla DT AUC \n",
    "- Interpret the results of comparison"
   ]
  },
  {
   "cell_type": "code",
   "execution_count": 192,
   "metadata": {},
   "outputs": [
    {
     "data": {
      "text/plain": [
       "0.7348379629629629"
      ]
     },
     "execution_count": 192,
     "metadata": {},
     "output_type": "execute_result"
    }
   ],
   "source": [
    "# train a classifier with optimal values identified above\n",
    "\n",
    "# Your code here "
   ]
  },
  {
   "cell_type": "code",
   "execution_count": null,
   "metadata": {},
   "outputs": [],
   "source": [
    "# You observations here \n"
   ]
  },
  {
   "cell_type": "markdown",
   "metadata": {},
   "source": [
    "In the next section, we shall talk about hyper-parameter tuning using a technique called \"grid-search\" to make this process even more granular and decisive. \n"
   ]
  },
  {
   "cell_type": "markdown",
   "metadata": {},
   "source": [
    "## Summary \n",
    "\n",
    "In this lesson, we looked at tuning a decision tree classifier in order to avoid over fitting and increasing the generalization capabilities of the classifier. For the Titanic dataset, we see that identifying optimal parameter values can result in some improvements towards predictions. This idea will be exploited further in upcoming lessons and labs. "
   ]
  }
 ],
 "metadata": {
  "kernelspec": {
   "display_name": "Python 3",
   "language": "python",
   "name": "python3"
  },
  "language_info": {
   "codemirror_mode": {
    "name": "ipython",
    "version": 3
   },
   "file_extension": ".py",
   "mimetype": "text/x-python",
   "name": "python",
   "nbconvert_exporter": "python",
   "pygments_lexer": "ipython3",
   "version": "3.6.6"
  }
 },
 "nbformat": 4,
 "nbformat_minor": 2
}
